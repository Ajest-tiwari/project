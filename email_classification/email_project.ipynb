{
 "cells": [
  {
   "cell_type": "code",
   "execution_count": 1,
   "id": "3f884bfd-bc38-4ba4-a3d1-d49d206049d6",
   "metadata": {},
   "outputs": [],
   "source": [
    "import pandas as pd \n",
    "import numpy as np \n",
    "from sklearn.feature_extraction.text import CountVectorizer \n",
    "from sklearn.feature_extraction.text import TfidfVectorizer"
   ]
  },
  {
   "cell_type": "code",
   "execution_count": 2,
   "id": "9dbedf7d-4803-4dcb-ab92-0ec653eecc9d",
   "metadata": {},
   "outputs": [],
   "source": [
    "# reading data from text file \n",
    "with open('SMSSpamCollection.txt','r') as file: \n",
    "    data = file.read()"
   ]
  },
  {
   "cell_type": "code",
   "execution_count": 3,
   "id": "9d77089f-09c2-4ea0-ae12-59859a1ae584",
   "metadata": {},
   "outputs": [],
   "source": [
    "temp = data.split('\\n')"
   ]
  },
  {
   "cell_type": "code",
   "execution_count": 4,
   "id": "ca8977e4-2379-4399-b21e-2573922d32d5",
   "metadata": {},
   "outputs": [
    {
     "name": "stdout",
     "output_type": "stream",
     "text": [
      "No. of emails :  5575\n"
     ]
    }
   ],
   "source": [
    "\n",
    "print(\"No. of emails : \",len(temp) )"
   ]
  },
  {
   "cell_type": "code",
   "execution_count": 5,
   "id": "53b56e97-75aa-430d-a23f-6d0ed9c8defe",
   "metadata": {},
   "outputs": [],
   "source": [
    "x = [] \n",
    "y = [] \n",
    "for email_with_label in temp: \n",
    "    temp_emails = email_with_label.split('\\t') \n",
    "    if len(temp_emails) == 2 : \n",
    "        x.append(temp_emails[1])\n",
    "        y.append(temp_emails[0])\n",
    "        "
   ]
  },
  {
   "cell_type": "code",
   "execution_count": 6,
   "id": "7d066030-8ef4-4568-b900-b5d4b2e04fc6",
   "metadata": {},
   "outputs": [
    {
     "data": {
      "text/plain": [
       "(5574, 5574)"
      ]
     },
     "execution_count": 6,
     "metadata": {},
     "output_type": "execute_result"
    }
   ],
   "source": [
    "len(x),len(y)"
   ]
  },
  {
   "cell_type": "code",
   "execution_count": 7,
   "id": "872e0efc-8fb8-485f-ac5b-db6b676a3de7",
   "metadata": {},
   "outputs": [
    {
     "data": {
      "text/html": [
       "<div>\n",
       "<style scoped>\n",
       "    .dataframe tbody tr th:only-of-type {\n",
       "        vertical-align: middle;\n",
       "    }\n",
       "\n",
       "    .dataframe tbody tr th {\n",
       "        vertical-align: top;\n",
       "    }\n",
       "\n",
       "    .dataframe thead th {\n",
       "        text-align: right;\n",
       "    }\n",
       "</style>\n",
       "<table border=\"1\" class=\"dataframe\">\n",
       "  <thead>\n",
       "    <tr style=\"text-align: right;\">\n",
       "      <th></th>\n",
       "      <th>email_message</th>\n",
       "      <th>label</th>\n",
       "    </tr>\n",
       "  </thead>\n",
       "  <tbody>\n",
       "    <tr>\n",
       "      <th>0</th>\n",
       "      <td>Go until jurong point, crazy.. Available only ...</td>\n",
       "      <td>ham</td>\n",
       "    </tr>\n",
       "    <tr>\n",
       "      <th>1</th>\n",
       "      <td>Ok lar... Joking wif u oni...</td>\n",
       "      <td>ham</td>\n",
       "    </tr>\n",
       "    <tr>\n",
       "      <th>2</th>\n",
       "      <td>Free entry in 2 a wkly comp to win FA Cup fina...</td>\n",
       "      <td>spam</td>\n",
       "    </tr>\n",
       "    <tr>\n",
       "      <th>3</th>\n",
       "      <td>U dun say so early hor... U c already then say...</td>\n",
       "      <td>ham</td>\n",
       "    </tr>\n",
       "    <tr>\n",
       "      <th>4</th>\n",
       "      <td>Nah I don't think he goes to usf, he lives aro...</td>\n",
       "      <td>ham</td>\n",
       "    </tr>\n",
       "  </tbody>\n",
       "</table>\n",
       "</div>"
      ],
      "text/plain": [
       "                                       email_message label\n",
       "0  Go until jurong point, crazy.. Available only ...   ham\n",
       "1                      Ok lar... Joking wif u oni...   ham\n",
       "2  Free entry in 2 a wkly comp to win FA Cup fina...  spam\n",
       "3  U dun say so early hor... U c already then say...   ham\n",
       "4  Nah I don't think he goes to usf, he lives aro...   ham"
      ]
     },
     "execution_count": 7,
     "metadata": {},
     "output_type": "execute_result"
    }
   ],
   "source": [
    "dt = {'email_message':x,\"label\":y}\n",
    "email_data = pd.DataFrame(dt)\n",
    "email_data.head()"
   ]
  },
  {
   "cell_type": "code",
   "execution_count": 8,
   "id": "ce3b6a28-2fde-46c2-9f84-a462afe983d4",
   "metadata": {},
   "outputs": [
    {
     "data": {
      "text/plain": [
       "label\n",
       "ham     4827\n",
       "spam     747\n",
       "Name: count, dtype: int64"
      ]
     },
     "execution_count": 8,
     "metadata": {},
     "output_type": "execute_result"
    }
   ],
   "source": [
    "email_data['label'].value_counts()"
   ]
  },
  {
   "cell_type": "code",
   "execution_count": 9,
   "id": "bbdfd3d3-798e-4f40-8780-14d6cb95d906",
   "metadata": {},
   "outputs": [],
   "source": [
    "spam = email_data[email_data['label']=='spam']\n",
    "ham = email_data[email_data['label']=='ham']\n"
   ]
  },
  {
   "cell_type": "code",
   "execution_count": 10,
   "id": "f01e55ec-bada-41af-8456-f59849cb4b13",
   "metadata": {},
   "outputs": [
    {
     "data": {
      "text/plain": [
       "(747, 2)"
      ]
     },
     "execution_count": 10,
     "metadata": {},
     "output_type": "execute_result"
    }
   ],
   "source": [
    "spam.shape"
   ]
  },
  {
   "cell_type": "code",
   "execution_count": 11,
   "id": "3386eb48-fc0d-447a-adf6-4072a0bc8d05",
   "metadata": {},
   "outputs": [
    {
     "data": {
      "text/plain": [
       "(4827, 2)"
      ]
     },
     "execution_count": 11,
     "metadata": {},
     "output_type": "execute_result"
    }
   ],
   "source": [
    "ham.shape"
   ]
  },
  {
   "cell_type": "code",
   "execution_count": 12,
   "id": "6029b38e-f316-42ee-a810-14a742b26979",
   "metadata": {},
   "outputs": [],
   "source": [
    "ham = ham.sample(1000)"
   ]
  },
  {
   "cell_type": "code",
   "execution_count": 13,
   "id": "a40a33e8-387e-422c-8054-aa0d3997c7ec",
   "metadata": {},
   "outputs": [
    {
     "data": {
      "text/plain": [
       "((747, 2), (1000, 2))"
      ]
     },
     "execution_count": 13,
     "metadata": {},
     "output_type": "execute_result"
    }
   ],
   "source": [
    "spam.shape , ham.shape "
   ]
  },
  {
   "cell_type": "code",
   "execution_count": 14,
   "id": "3384dab2-1a4c-49b4-9577-2da6444b185e",
   "metadata": {},
   "outputs": [],
   "source": [
    "final_df=pd.concat([ham,spam],axis=0)"
   ]
  },
  {
   "cell_type": "code",
   "execution_count": 15,
   "id": "1380e627-087f-4838-885b-56432ddfecd4",
   "metadata": {},
   "outputs": [
    {
     "data": {
      "text/html": [
       "<div>\n",
       "<style scoped>\n",
       "    .dataframe tbody tr th:only-of-type {\n",
       "        vertical-align: middle;\n",
       "    }\n",
       "\n",
       "    .dataframe tbody tr th {\n",
       "        vertical-align: top;\n",
       "    }\n",
       "\n",
       "    .dataframe thead th {\n",
       "        text-align: right;\n",
       "    }\n",
       "</style>\n",
       "<table border=\"1\" class=\"dataframe\">\n",
       "  <thead>\n",
       "    <tr style=\"text-align: right;\">\n",
       "      <th></th>\n",
       "      <th>email_message</th>\n",
       "      <th>label</th>\n",
       "    </tr>\n",
       "  </thead>\n",
       "  <tbody>\n",
       "    <tr>\n",
       "      <th>1232</th>\n",
       "      <td>have got * few things to do. may be in * pub l...</td>\n",
       "      <td>ham</td>\n",
       "    </tr>\n",
       "    <tr>\n",
       "      <th>274</th>\n",
       "      <td>Usf I guess, might as well take 1 car</td>\n",
       "      <td>ham</td>\n",
       "    </tr>\n",
       "    <tr>\n",
       "      <th>3822</th>\n",
       "      <td>You are right though. I can't give you the spa...</td>\n",
       "      <td>ham</td>\n",
       "    </tr>\n",
       "    <tr>\n",
       "      <th>5557</th>\n",
       "      <td>Yeh. Indians was nice. Tho it did kane me off ...</td>\n",
       "      <td>ham</td>\n",
       "    </tr>\n",
       "    <tr>\n",
       "      <th>2617</th>\n",
       "      <td>I went to ur hon lab but no one is there.</td>\n",
       "      <td>ham</td>\n",
       "    </tr>\n",
       "  </tbody>\n",
       "</table>\n",
       "</div>"
      ],
      "text/plain": [
       "                                          email_message label\n",
       "1232  have got * few things to do. may be in * pub l...   ham\n",
       "274               Usf I guess, might as well take 1 car   ham\n",
       "3822  You are right though. I can't give you the spa...   ham\n",
       "5557  Yeh. Indians was nice. Tho it did kane me off ...   ham\n",
       "2617          I went to ur hon lab but no one is there.   ham"
      ]
     },
     "execution_count": 15,
     "metadata": {},
     "output_type": "execute_result"
    }
   ],
   "source": [
    "final_df.head()"
   ]
  },
  {
   "cell_type": "code",
   "execution_count": 16,
   "id": "3455f806-ccbb-4b3e-850d-d2dc29b99adb",
   "metadata": {},
   "outputs": [
    {
     "data": {
      "text/plain": [
       "(1747, 2)"
      ]
     },
     "execution_count": 16,
     "metadata": {},
     "output_type": "execute_result"
    }
   ],
   "source": [
    "final_df.shape"
   ]
  },
  {
   "cell_type": "code",
   "execution_count": 17,
   "id": "5f17402f-0bdb-4ec6-acaf-c44694403e43",
   "metadata": {},
   "outputs": [],
   "source": [
    "import re"
   ]
  },
  {
   "cell_type": "code",
   "execution_count": 18,
   "id": "303c05ee-0860-4cbb-bafc-0382378c45da",
   "metadata": {},
   "outputs": [],
   "source": [
    "final_df.reset_index(drop=True,inplace=True)"
   ]
  },
  {
   "cell_type": "code",
   "execution_count": 19,
   "id": "a4ffb66d-3283-423c-bc84-ba2756fc4630",
   "metadata": {},
   "outputs": [
    {
     "data": {
      "text/plain": [
       "\"Solve d Case : A Man Was Found Murdered On  &lt;DECIMAL&gt; . &lt;#&gt;  AfterNoon. 1,His wife called Police. 2,Police questioned everyone. 3,Wife: Sir,I was sleeping, when the murder took place. 4.Cook: I was cooking. 5.Gardener: I was picking vegetables. 6.House-Maid: I went 2 d post office. 7.Children: We went 2 play. 8.Neighbour: We went 2 a marriage. Police arrested d murderer Immediately. Who's It? Reply With Reason, If U r Brilliant.\""
      ]
     },
     "execution_count": 19,
     "metadata": {},
     "output_type": "execute_result"
    }
   ],
   "source": [
    "final_df['email_message'][25]\n",
    "# a-z , A-z "
   ]
  },
  {
   "cell_type": "code",
   "execution_count": 20,
   "id": "e920a0c1-e701-4d87-8aab-9948ca9d3040",
   "metadata": {},
   "outputs": [
    {
     "name": "stderr",
     "output_type": "stream",
     "text": [
      "C:\\Users\\tumha\\AppData\\Local\\Temp\\ipykernel_10056\\622084000.py:2: FutureWarning: ChainedAssignmentError: behaviour will change in pandas 3.0!\n",
      "You are setting values through chained assignment. Currently this works in certain cases, but when using Copy-on-Write (which will become the default behaviour in pandas 3.0) this will never work to update the original DataFrame or Series, because the intermediate object on which we are setting values will behave as a copy.\n",
      "A typical example is when you are setting values in a column of a DataFrame, like:\n",
      "\n",
      "df[\"col\"][row_indexer] = value\n",
      "\n",
      "Use `df.loc[row_indexer, \"col\"] = values` instead, to perform the assignment in a single step and ensure this keeps updating the original `df`.\n",
      "\n",
      "See the caveats in the documentation: https://pandas.pydata.org/pandas-docs/stable/user_guide/indexing.html#returning-a-view-versus-a-copy\n",
      "\n",
      "  final_df['email_message'][i] = re.sub('[^a-zA-Z ]','',final_df['email_message'][i]).lower()\n"
     ]
    }
   ],
   "source": [
    "for i in range(len(final_df)): \n",
    "    final_df['email_message'][i] = re.sub('[^a-zA-Z ]','',final_df['email_message'][i]).lower()"
   ]
  },
  {
   "cell_type": "code",
   "execution_count": 21,
   "id": "7e8a2d03-c653-44b8-845a-44f9a8bf5393",
   "metadata": {},
   "outputs": [
    {
     "data": {
      "text/html": [
       "<div>\n",
       "<style scoped>\n",
       "    .dataframe tbody tr th:only-of-type {\n",
       "        vertical-align: middle;\n",
       "    }\n",
       "\n",
       "    .dataframe tbody tr th {\n",
       "        vertical-align: top;\n",
       "    }\n",
       "\n",
       "    .dataframe thead th {\n",
       "        text-align: right;\n",
       "    }\n",
       "</style>\n",
       "<table border=\"1\" class=\"dataframe\">\n",
       "  <thead>\n",
       "    <tr style=\"text-align: right;\">\n",
       "      <th></th>\n",
       "      <th>email_message</th>\n",
       "      <th>label</th>\n",
       "    </tr>\n",
       "  </thead>\n",
       "  <tbody>\n",
       "    <tr>\n",
       "      <th>0</th>\n",
       "      <td>have got  few things to do may be in  pub later</td>\n",
       "      <td>ham</td>\n",
       "    </tr>\n",
       "    <tr>\n",
       "      <th>1</th>\n",
       "      <td>usf i guess might as well take  car</td>\n",
       "      <td>ham</td>\n",
       "    </tr>\n",
       "    <tr>\n",
       "      <th>2</th>\n",
       "      <td>you are right though i cant give you the space...</td>\n",
       "      <td>ham</td>\n",
       "    </tr>\n",
       "    <tr>\n",
       "      <th>3</th>\n",
       "      <td>yeh indians was nice tho it did kane me off a ...</td>\n",
       "      <td>ham</td>\n",
       "    </tr>\n",
       "    <tr>\n",
       "      <th>4</th>\n",
       "      <td>i went to ur hon lab but no one is there</td>\n",
       "      <td>ham</td>\n",
       "    </tr>\n",
       "  </tbody>\n",
       "</table>\n",
       "</div>"
      ],
      "text/plain": [
       "                                       email_message label\n",
       "0    have got  few things to do may be in  pub later   ham\n",
       "1                usf i guess might as well take  car   ham\n",
       "2  you are right though i cant give you the space...   ham\n",
       "3  yeh indians was nice tho it did kane me off a ...   ham\n",
       "4           i went to ur hon lab but no one is there   ham"
      ]
     },
     "execution_count": 21,
     "metadata": {},
     "output_type": "execute_result"
    }
   ],
   "source": [
    "final_df.head()"
   ]
  },
  {
   "cell_type": "code",
   "execution_count": 22,
   "id": "3d8a12c0-8f43-4c1a-ab6f-00ecafad8db6",
   "metadata": {},
   "outputs": [],
   "source": [
    "labels = list(final_df['label'])\n",
    "temp_labels = [1 if item ==\"spam\" else 0 for item in labels]\n",
    "final_df['label'] = temp_labels"
   ]
  },
  {
   "cell_type": "code",
   "execution_count": 23,
   "id": "a45c7cfa-5aa2-4eb8-bf17-acb710ad14da",
   "metadata": {},
   "outputs": [
    {
     "data": {
      "text/html": [
       "<div>\n",
       "<style scoped>\n",
       "    .dataframe tbody tr th:only-of-type {\n",
       "        vertical-align: middle;\n",
       "    }\n",
       "\n",
       "    .dataframe tbody tr th {\n",
       "        vertical-align: top;\n",
       "    }\n",
       "\n",
       "    .dataframe thead th {\n",
       "        text-align: right;\n",
       "    }\n",
       "</style>\n",
       "<table border=\"1\" class=\"dataframe\">\n",
       "  <thead>\n",
       "    <tr style=\"text-align: right;\">\n",
       "      <th></th>\n",
       "      <th>email_message</th>\n",
       "      <th>label</th>\n",
       "    </tr>\n",
       "  </thead>\n",
       "  <tbody>\n",
       "    <tr>\n",
       "      <th>0</th>\n",
       "      <td>have got  few things to do may be in  pub later</td>\n",
       "      <td>0</td>\n",
       "    </tr>\n",
       "    <tr>\n",
       "      <th>1</th>\n",
       "      <td>usf i guess might as well take  car</td>\n",
       "      <td>0</td>\n",
       "    </tr>\n",
       "    <tr>\n",
       "      <th>2</th>\n",
       "      <td>you are right though i cant give you the space...</td>\n",
       "      <td>0</td>\n",
       "    </tr>\n",
       "    <tr>\n",
       "      <th>3</th>\n",
       "      <td>yeh indians was nice tho it did kane me off a ...</td>\n",
       "      <td>0</td>\n",
       "    </tr>\n",
       "    <tr>\n",
       "      <th>4</th>\n",
       "      <td>i went to ur hon lab but no one is there</td>\n",
       "      <td>0</td>\n",
       "    </tr>\n",
       "  </tbody>\n",
       "</table>\n",
       "</div>"
      ],
      "text/plain": [
       "                                       email_message  label\n",
       "0    have got  few things to do may be in  pub later      0\n",
       "1                usf i guess might as well take  car      0\n",
       "2  you are right though i cant give you the space...      0\n",
       "3  yeh indians was nice tho it did kane me off a ...      0\n",
       "4           i went to ur hon lab but no one is there      0"
      ]
     },
     "execution_count": 23,
     "metadata": {},
     "output_type": "execute_result"
    }
   ],
   "source": [
    "final_df.head()"
   ]
  },
  {
   "cell_type": "code",
   "execution_count": 24,
   "id": "7608620b-b2b8-42f3-b991-ff69ff6d5632",
   "metadata": {},
   "outputs": [],
   "source": [
    "\n",
    "x = final_df['email_message']\n",
    "y = final_df['label']\n"
   ]
  },
  {
   "cell_type": "code",
   "execution_count": 25,
   "id": "b417e898-816c-4a61-b358-e63dc1f0d219",
   "metadata": {},
   "outputs": [],
   "source": [
    "x = x.values"
   ]
  },
  {
   "cell_type": "code",
   "execution_count": 26,
   "id": "3071111d-4cee-446b-ac33-39b79da982df",
   "metadata": {},
   "outputs": [],
   "source": [
    "bow_obj = CountVectorizer(max_features=1500,stop_words='english')"
   ]
  },
  {
   "cell_type": "code",
   "execution_count": 27,
   "id": "125062fc-ac19-4428-9892-574f99a88af5",
   "metadata": {},
   "outputs": [],
   "source": [
    "X =  bow_obj.fit_transform(x)"
   ]
  },
  {
   "cell_type": "code",
   "execution_count": 28,
   "id": "52decacb-bf22-4d91-91d3-c1f23b7f75c4",
   "metadata": {},
   "outputs": [
    {
     "data": {
      "text/plain": [
       "array(['have got  few things to do may be in  pub later',\n",
       "       'usf i guess might as well take  car',\n",
       "       'you are right though i cant give you the space you want and need this is really starting to become an issue i was going to suggest setting a definite move outif im still there after greece but maybe you are ready and should do it now',\n",
       "       ...,\n",
       "       'had your contract mobile  mnths latest motorola nokia etc all free double mins  text on orange tariffs text yes for callback no to remove from records',\n",
       "       'reminder from o to get  pounds free call credit and details of great offers pls reply  this text with your valid name house no and postcode',\n",
       "       'this is the nd time we have tried  contact u u have won the  pound prize  claim is easy call  now only p per minute btnationalrate'],\n",
       "      dtype=object)"
      ]
     },
     "execution_count": 28,
     "metadata": {},
     "output_type": "execute_result"
    }
   ],
   "source": [
    "x"
   ]
  },
  {
   "cell_type": "code",
   "execution_count": 29,
   "id": "8e21566b-e86e-4f9e-9a37-f2e8f7ffb340",
   "metadata": {},
   "outputs": [
    {
     "data": {
      "text/plain": [
       "array([[0, 0, 0, ..., 0, 0, 0],\n",
       "       [0, 0, 0, ..., 0, 0, 0],\n",
       "       [0, 0, 0, ..., 0, 0, 0],\n",
       "       ...,\n",
       "       [0, 0, 0, ..., 0, 0, 0],\n",
       "       [0, 0, 0, ..., 0, 0, 0],\n",
       "       [0, 0, 0, ..., 0, 0, 0]])"
      ]
     },
     "execution_count": 29,
     "metadata": {},
     "output_type": "execute_result"
    }
   ],
   "source": [
    "X.toarray()"
   ]
  },
  {
   "cell_type": "code",
   "execution_count": null,
   "id": "610cf4e8-5974-48aa-b15c-54801c8cb273",
   "metadata": {},
   "outputs": [],
   "source": []
  },
  {
   "cell_type": "code",
   "execution_count": 30,
   "id": "04b90c0d-987a-45bc-8a9b-24a702d59ffb",
   "metadata": {},
   "outputs": [],
   "source": [
    "#practise\n"
   ]
  },
  {
   "cell_type": "code",
   "execution_count": 31,
   "id": "d840d189-996c-47cc-a6c2-89fc02d43710",
   "metadata": {},
   "outputs": [],
   "source": [
    "import numpy as np"
   ]
  },
  {
   "cell_type": "code",
   "execution_count": 32,
   "id": "29fda0e9-6543-4a17-a448-cda0c68b04f0",
   "metadata": {},
   "outputs": [
    {
     "data": {
      "text/plain": [
       "array([130, 668, 678, 487, 130, 399, 620,  12,  94, 974, 719, 183, 701,\n",
       "       693, 616, 166, 767,  45, 525, 245, 439, 793, 854, 735, 171, 305,\n",
       "       763, 755, 760,  24, 861, 679, 883, 245, 387, 821,   4, 575, 589,\n",
       "       993,  33, 850, 893, 771, 403, 297, 622, 550, 699, 739, 815, 993,\n",
       "       355,  54, 670, 774,  52, 429, 641,   9, 319, 500, 847, 147, 535,\n",
       "       492, 481, 915,  35, 207, 341, 392, 956, 935, 275, 791, 107, 734,\n",
       "        64, 222, 875, 381, 589, 210,  13, 384, 151, 287, 740, 828, 715,\n",
       "       639, 726, 577,  30,  22, 218, 257, 482, 417, 783, 392, 311, 131,\n",
       "        41,  79, 204, 562, 900, 681, 623, 314, 957,  21, 258, 654, 281,\n",
       "       942,  29, 530,  34, 590, 761, 833,  54, 901,  53, 833, 757, 961,\n",
       "       861, 475, 396, 223, 814, 629, 979, 990, 345, 719, 482, 530, 435,\n",
       "       900, 801, 240, 689,  49, 795, 126, 396, 201, 310, 635, 704, 864,\n",
       "       502, 895, 216, 645, 641,  78, 364, 710, 819, 509, 204,  53, 503,\n",
       "       201, 205, 405,   9, 460, 227, 819, 436, 353, 863, 783, 555, 582,\n",
       "       170, 708, 768, 399, 292, 546, 393, 551,  72, 689, 766, 448, 995,\n",
       "       731, 389, 854, 347, 681, 213,  82, 595, 334, 437,  55, 951, 516,\n",
       "        65, 862, 118, 346, 168, 784, 155, 829, 348, 300, 881, 249, 288,\n",
       "       970, 817, 668, 301, 706, 345, 234, 474, 762, 223,  23, 521, 594,\n",
       "       793, 410, 521, 540, 545, 884, 515, 678,  94, 332, 920, 332,  21,\n",
       "       356, 282, 989], dtype=int32)"
      ]
     },
     "execution_count": 32,
     "metadata": {},
     "output_type": "execute_result"
    }
   ],
   "source": [
    "\n",
    "arr = np.random.randint(1,999,250)\n",
    "arr \n",
    "#even = 1 , odd = 0"
   ]
  },
  {
   "cell_type": "code",
   "execution_count": 33,
   "id": "5ca62f47-1755-40f3-b18f-ead08965581e",
   "metadata": {},
   "outputs": [
    {
     "ename": "NameError",
     "evalue": "name 'even' is not defined",
     "output_type": "error",
     "traceback": [
      "\u001b[1;31m---------------------------------------------------------------------------\u001b[0m",
      "\u001b[1;31mNameError\u001b[0m                                 Traceback (most recent call last)",
      "Cell \u001b[1;32mIn[33], line 1\u001b[0m\n\u001b[1;32m----> 1\u001b[0m \u001b[43meven\u001b[49m  \u001b[38;5;241m==\u001b[39m \u001b[38;5;241m1\u001b[39m , odd \u001b[38;5;241m==\u001b[39m  \u001b[38;5;241m0\u001b[39m \n",
      "\u001b[1;31mNameError\u001b[0m: name 'even' is not defined"
     ]
    }
   ],
   "source": [
    "even  == 1 , odd ==  0 "
   ]
  },
  {
   "cell_type": "code",
   "execution_count": null,
   "id": "0a1d5d72-d70c-4c80-b2fa-024169f06ede",
   "metadata": {},
   "outputs": [],
   "source": []
  },
  {
   "cell_type": "code",
   "execution_count": null,
   "id": "805e9703-2b39-4c10-a4aa-8f7095160e4b",
   "metadata": {},
   "outputs": [],
   "source": []
  },
  {
   "cell_type": "code",
   "execution_count": null,
   "id": "65f32252-4cb5-4eb0-abfc-833a4b5597fe",
   "metadata": {},
   "outputs": [],
   "source": []
  },
  {
   "cell_type": "code",
   "execution_count": null,
   "id": "ec82e95a-39b9-42fb-8d12-44f35c4e6d10",
   "metadata": {},
   "outputs": [],
   "source": []
  },
  {
   "cell_type": "code",
   "execution_count": null,
   "id": "b9220f9b-eecc-47c3-965f-e61f322ed064",
   "metadata": {},
   "outputs": [],
   "source": []
  },
  {
   "cell_type": "code",
   "execution_count": null,
   "id": "d5d6b7c9-6c0d-4745-ae48-c6ea7dbdd89e",
   "metadata": {},
   "outputs": [],
   "source": []
  },
  {
   "cell_type": "code",
   "execution_count": null,
   "id": "3bdd650b-a16c-44e0-8496-0910da774ab5",
   "metadata": {},
   "outputs": [],
   "source": []
  },
  {
   "cell_type": "code",
   "execution_count": null,
   "id": "ac2e5e42-73f0-481e-a9ce-95bc541b97ff",
   "metadata": {},
   "outputs": [],
   "source": []
  }
 ],
 "metadata": {
  "kernelspec": {
   "display_name": "Python 3 (ipykernel)",
   "language": "python",
   "name": "python3"
  },
  "language_info": {
   "codemirror_mode": {
    "name": "ipython",
    "version": 3
   },
   "file_extension": ".py",
   "mimetype": "text/x-python",
   "name": "python",
   "nbconvert_exporter": "python",
   "pygments_lexer": "ipython3",
   "version": "3.12.4"
  }
 },
 "nbformat": 4,
 "nbformat_minor": 5
}
